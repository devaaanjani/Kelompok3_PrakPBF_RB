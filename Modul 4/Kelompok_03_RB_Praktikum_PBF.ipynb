{
  "nbformat": 4,
  "nbformat_minor": 0,
  "metadata": {
    "colab": {
      "provenance": []
    },
    "kernelspec": {
      "name": "python3",
      "display_name": "Python 3"
    },
    "language_info": {
      "name": "python"
    }
  },
  "cells": [
    {
      "cell_type": "markdown",
      "source": [
        "#**Tugas Praktikum PBF Modul 4**\n",
        "Anggota Kelompok 3 :\n",
        "1. Deva Anjani Khayyuninafsyah (122450014)\n",
        "2. Nabiilah Karnaia Putri (122450029)\n",
        "3. Chevando Daffa Pramanda (122450095)\n",
        "4. Novelia Adinda (122450104)\n",
        "5. Rafly Prabu Darmawan (122450140)"
      ],
      "metadata": {
        "id": "7LklYTh_w-0Q"
      }
    },
    {
      "cell_type": "markdown",
      "source": [
        "#**Data Filter**\n",
        "![image.png](data:image/png;base64,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)"
      ],
      "metadata": {
        "id": "-Gj6hY60w4z_"
      }
    },
    {
      "cell_type": "code",
      "execution_count": 1,
      "metadata": {
        "colab": {
          "base_uri": "https://localhost:8080/"
        },
        "id": "kcA10J9awheS",
        "outputId": "3ec5e4cc-f766-42a6-fd9b-c737b3f69457"
      },
      "outputs": [
        {
          "output_type": "stream",
          "name": "stdout",
          "text": [
            "Menu makanan dengan harga Rp8.000: \n",
            "[{'Menu': 'Es Jeruk', 'Harga': 'Rp8.000', 'Kategori': 'Minuman'}, {'Menu': 'Es Krim Vanila', 'Harga': 'Rp8.000', 'Kategori': 'Makanan Penutup'}]. \n",
            "\n",
            "Menu makanan utama: \n",
            "[{'Menu': 'Nasi Goreng', 'Harga': 'Rp25.000', 'Kategori': 'Makanan Utama'}, {'Menu': 'Soto Ayam', 'Harga': 'Rp15.000', 'Kategori': 'Makanan Utama'}].\n"
          ]
        }
      ],
      "source": [
        "def filter_menu(menu, kriteria):\n",
        "  \"\"\"\n",
        "  Fungsi tersebut membuat closure untuk memfilter data menu pada suatu restoran berdasarkan kriteria tertentu.\n",
        "\n",
        "  Args:\n",
        "      menu: data yang akan difilter.\n",
        "      kriteria: fungsi yang menerima data dan mengembalikan True jika kriteria terpenuhi.\n",
        "\n",
        "  Returns:\n",
        "      Mengembalikan fungsi untuk memfilter data.\n",
        "  \"\"\"\n",
        "\n",
        "  def kriteria_menu():\n",
        "    \"\"\"\n",
        "    Fungsi ini yang akan memfilter data menu berdasarkan kriteria.\n",
        "\n",
        "    Returns:\n",
        "        Mengembalikan nilai dalam bentuk list berisi data yang memenuhi kriteria.\n",
        "    \"\"\"\n",
        "    return [m for m in menu if kriteria(m)]\n",
        "\n",
        "  return kriteria_menu\n",
        "\n",
        "# Dataset menu suatu restoran\n",
        "menu = [{\"Menu\": \"Nasi Goreng\", \"Harga\": \"Rp25.000\", \"Kategori\": \"Makanan Utama\"},\n",
        "        {\"Menu\": \"Soto Ayam\", \"Harga\": \"Rp15.000\", \"Kategori\": \"Makanan Utama\"},\n",
        "        {\"Menu\": \"Es Jeruk\", \"Harga\": \"Rp8.000\", \"Kategori\": \"Minuman\"},\n",
        "        {\"Menu\": \"Es Teh\", \"Harga\": \"Rp5.000\", \"Kategori\": \"Minuman\"},\n",
        "        {\"Menu\": \"Es Krim Vanila\", \"Harga\": \"Rp8.000\", \"Kategori\": \"Makanan Penutup\"},\n",
        "        {\"Menu\": \"Puding Cokelat\", \"Harga\": \"Rp10.000\", \"Kategori\": \"Makanan Penutup\"}]\n",
        "\n",
        "# Filter data menu berdasarkan harga\n",
        "filter_berdasarkan_harga = filter_menu(menu, lambda m: m[\"Harga\"] == \"Rp8.000\")\n",
        "# Filter data menu berdasarkan kategori\n",
        "filter_berdasarkan_kategori = filter_menu(menu, lambda m: m[\"Kategori\"] == \"Makanan Utama\")\n",
        "\n",
        "# Hasil filter\n",
        "hasil1 = filter_berdasarkan_harga()\n",
        "hasil2 = filter_berdasarkan_kategori()\n",
        "\n",
        "# Output\n",
        "print(f\"Menu makanan dengan harga Rp8.000: \\n{hasil1}. \\n\")\n",
        "print(f\"Menu makanan utama: \\n{hasil2}.\")"
      ]
    }
  ]
}