{
  "nbformat": 4,
  "nbformat_minor": 0,
  "metadata": {
    "colab": {
      "provenance": []
    },
    "kernelspec": {
      "name": "python3",
      "display_name": "Python 3"
    },
    "language_info": {
      "name": "python"
    }
  },
  "cells": [
    {
      "cell_type": "markdown",
      "source": [
        "#**TUGAS KELOMPOK PRAKTIKUM PBF RB MODUL 5**"
      ],
      "metadata": {
        "id": "nhSGlPvSNpGe"
      }
    },
    {
      "cell_type": "markdown",
      "source": [
        "##**Kelompok 3 Praktikum PBF RB**\n",
        "Anggota Kelompok :\n",
        "1. Deva Anjani Khayyuninafsyah (122450014)\n",
        "2. Nabiilah Putri Karnaia (122450029)\n",
        "3. Chevando Daffa Pramanda (122450095)\n",
        "4. Novelia Adinda (122450104)\n",
        "5. Rafly Prabu Darmawan (122450140)"
      ],
      "metadata": {
        "id": "fQ0o0ThfNsEQ"
      }
    },
    {
      "cell_type": "markdown",
      "source": [
        "#**Fungsi dan Decorator**"
      ],
      "metadata": {
        "id": "883ie67vM1WQ"
      }
    },
    {
      "cell_type": "code",
      "execution_count": 1,
      "metadata": {
        "id": "ficpTkZKaK_8"
      },
      "outputs": [],
      "source": [
        "def bilangan_prima(n):\n",
        "  if n <= 1:\n",
        "    return False\n",
        "  if n <= 3:\n",
        "    return True\n",
        "  if n % 2 == 0 or n % 3 == 0:\n",
        "    return False\n",
        "  i = 5\n",
        "  while i * i <= n:\n",
        "    if n % i == 0 or n % (i + 2) == 0:\n",
        "      return False\n",
        "      i += 6\n",
        "  return True\n",
        "\n",
        "def validate_input(func):\n",
        "  def wrapper(*args, **kwargs):\n",
        "    bukan_prima = []\n",
        "    for arg in args:\n",
        "      if isinstance(arg, list):\n",
        "        for num in arg:\n",
        "          if not bilangan_prima(num):\n",
        "            bukan_prima.append(num)\n",
        "        if bukan_prima:\n",
        "          print(\"Error: Terdapat elemen bukan bilangan prima:\")\n",
        "          for num in bukan_prima:\n",
        "            print(num, end=\" \")\n",
        "          return None\n",
        "        else:\n",
        "          return func(*args, **kwargs)\n",
        "      else:\n",
        "        print(\"Error: Input harus berupa list.\")\n",
        "        return None\n",
        "  return wrapper\n",
        "\n",
        "# dekorasi fungsi cek_prima dengan decorator validate_input\n",
        "@validate_input\n",
        "def cek_prima(nums):\n",
        "  print(\"Semua elemen dalam list merupakan bilangan prima.\")"
      ]
    },
    {
      "cell_type": "markdown",
      "source": [
        "#**Semua Bilangan Prima**"
      ],
      "metadata": {
        "id": "7wQtH8RaM6uY"
      }
    },
    {
      "cell_type": "code",
      "source": [
        "# input disimpan dalam variabel listKu sebagai list\n",
        "listKu = [2, 3, 5, 7, 11, 13]\n",
        "\n",
        "# memanggil fungsi cek_prima dengan variabel input listKu\n",
        "cek_prima(listKu)"
      ],
      "metadata": {
        "colab": {
          "base_uri": "https://localhost:8080/"
        },
        "id": "lilg8TMtLLhM",
        "outputId": "83e699f5-25a1-461d-87b0-1663427ecd65"
      },
      "execution_count": 2,
      "outputs": [
        {
          "output_type": "stream",
          "name": "stdout",
          "text": [
            "Semua elemen dalam list merupakan bilangan prima.\n"
          ]
        }
      ]
    },
    {
      "cell_type": "markdown",
      "source": [
        "#**Terdapat Elemen Bukan Bilangan Prima**"
      ],
      "metadata": {
        "id": "bfQylA4CNAbB"
      }
    },
    {
      "cell_type": "code",
      "source": [
        "# input disimpan dalam variabel listKu sebagai list\n",
        "listKu = [1, 2, 3, 4, 5, 6]\n",
        "\n",
        "# memanggil fungsi cek_prima dengan variabel input listKu\n",
        "cek_prima(listKu)"
      ],
      "metadata": {
        "colab": {
          "base_uri": "https://localhost:8080/"
        },
        "id": "8htPguFJLK-m",
        "outputId": "2faa7ea7-6c46-45e6-c705-5e1c188572c3"
      },
      "execution_count": 3,
      "outputs": [
        {
          "output_type": "stream",
          "name": "stdout",
          "text": [
            "Error: Terdapat elemen bukan bilangan prima:\n",
            "1 4 6 "
          ]
        }
      ]
    },
    {
      "cell_type": "markdown",
      "source": [
        "#**Input Bukan Berupa List**"
      ],
      "metadata": {
        "id": "uqAd1sVFNGrZ"
      }
    },
    {
      "cell_type": "code",
      "source": [
        "# input disimpan dalam variabel listKu sebagai list\n",
        "listKu = (2, 3, 4, 5, 7, 8)\n",
        "\n",
        "# memanggil fungsi cek_prima dengan variabel input listKu\n",
        "cek_prima(listKu)"
      ],
      "metadata": {
        "colab": {
          "base_uri": "https://localhost:8080/"
        },
        "id": "n1A5TkgpLJbH",
        "outputId": "01124156-e51d-4731-9120-d78f77135ff5"
      },
      "execution_count": 4,
      "outputs": [
        {
          "output_type": "stream",
          "name": "stdout",
          "text": [
            "Error: Input harus berupa list.\n"
          ]
        }
      ]
    }
  ]
}