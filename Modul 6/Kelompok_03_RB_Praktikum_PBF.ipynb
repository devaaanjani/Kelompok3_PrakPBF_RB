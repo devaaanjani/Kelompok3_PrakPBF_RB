{
  "nbformat": 4,
  "nbformat_minor": 0,
  "metadata": {
    "colab": {
      "provenance": []
    },
    "kernelspec": {
      "name": "python3",
      "display_name": "Python 3"
    },
    "language_info": {
      "name": "python"
    }
  },
  "cells": [
    {
      "cell_type": "markdown",
      "source": [
        "#**TUGAS KELOMPOK MODUL 6 PRAKTIKUM PBF RB**\n",
        "\n",
        "##**Kelompok 3 Praktikum PBF RB**\n",
        "Anggota Kelompok :\n",
        "1. Deva Anjani Khayyuninafsyah (122450014)\n",
        "2. Nabiilah Putri Karnaia (122450029)\n",
        "3. Chevando Daffa Pramanda (122450095)\n",
        "4. Novelia Adinda (122450104)\n",
        "5. Rafly Prabu Darmawan (122450140)"
      ],
      "metadata": {
        "id": "fV6vgzsqJgpK"
      }
    },
    {
      "cell_type": "code",
      "source": [
        "from functools import reduce\n",
        "\n",
        "# membuat elemen barang dengan diskon\n",
        "def barang_diskon(nama, harga, diskon):\n",
        "  harga_diskon = harga * (1 - diskon)\n",
        "  return {\"nama\": nama, \"harga\": harga, \"diskon\": diskon}\n",
        "\n",
        "# menambahkan elemen barang ke keranjang belanja\n",
        "def tambah_ke_keranjang(keranjang, barang):\n",
        "  return keranjang + [barang]\n",
        "\n",
        "# menghitung total harga belanjaan\n",
        "def total_kalkulasi(keranjang):\n",
        "  return reduce(lambda total, barang: total + barang[\"harga\"], keranjang, 0)\n",
        "\n",
        "# menampilkan elemen barang di keranjang\n",
        "def tampilkan_keranjang(keranjang, formatter):\n",
        "  print(\"Barang di keranjang:\\n\")\n",
        "  for barang in keranjang:\n",
        "    print(formatter(barang))\n",
        "\n",
        "# mendapatkan harga setelah diskon dari sebuah elemen barang\n",
        "def get_harga_diskon(barang):\n",
        "  return barang[\"harga\"] * (1 - barang[\"diskon\"])\n",
        "\n",
        "# formatter untuk menampilkan elemen barang dalam format tertentu\n",
        "def formatter_barang(barang):\n",
        "  return f\"{barang['nama']}: Rp{formatter_harga(get_harga_diskon(barang))} (Diskon: {barang['diskon']})\"\n",
        "\n",
        "# menghitung total diskon yang diterapkan\n",
        "def kalkulasi_total_diskon(keranjang):\n",
        "  return reduce(lambda total, barang: total + barang[\"harga\"] * barang[\"diskon\"], keranjang, 0)\n",
        "\n",
        "# formatter untuk format harga rupiah\n",
        "def formatter_harga(harga):\n",
        "  return f\"{harga:,.2f}\".replace(\",\", \".\")\n",
        "\n",
        "# membuat keranjang belanja baru\n",
        "keranjang_belanja = []\n",
        "\n",
        "# menambahkan beberapa elemen barang ke keranjang\n",
        "list_barang = [(\"Laptop\", 20000000, 0.15), (\"Mechanical Keyboard\", 500000, 0.1), (\"Tas Laptop\", 100000, 0.05)]\n",
        "keranjang_belanja = reduce(tambah_ke_keranjang, map(lambda x: barang_diskon(*x), list_barang), [])\n",
        "\n",
        "# menampilkan elemen barang di keranjang dengan menggunakan formatter\n",
        "tampilkan_keranjang(keranjang_belanja, formatter_barang)\n",
        "\n",
        "# menghitung total harga belanjaan\n",
        "total_harga = total_kalkulasi(keranjang_belanja)\n",
        "print(f\"\\nTotal: Rp{formatter_harga(total_harga)}\")\n",
        "\n",
        "# menghitung total diskon yang diterapkan\n",
        "total_diskon = kalkulasi_total_diskon(keranjang_belanja)\n",
        "print(f\"Total Diskon: Rp{formatter_harga(total_diskon)} \\n\")\n",
        "\n",
        "# menghitung harga akhir yang harus dibayar\n",
        "harga_bayar = total_harga - total_diskon\n",
        "print(f\"Jumlah yang harus dibayar: Rp{formatter_harga(harga_bayar)}.\")"
      ],
      "metadata": {
        "colab": {
          "base_uri": "https://localhost:8080/"
        },
        "id": "vN9sMwOPxv_d",
        "outputId": "6cdd1b6d-4b56-4458-bfe8-45810fe4698d"
      },
      "execution_count": 8,
      "outputs": [
        {
          "output_type": "stream",
          "name": "stdout",
          "text": [
            "Barang di keranjang:\n",
            "\n",
            "Laptop: Rp17.000.000.00 (Diskon: 0.15)\n",
            "Mechanical Keyboard: Rp450.000.00 (Diskon: 0.1)\n",
            "Tas Laptop: Rp95.000.00 (Diskon: 0.05)\n",
            "\n",
            "Total: Rp20.600.000.00\n",
            "Total Diskon: Rp3.055.000.00 \n",
            "\n",
            "Jumlah yang harus dibayar: Rp17.545.000.00.\n"
          ]
        }
      ]
    }
  ]
}